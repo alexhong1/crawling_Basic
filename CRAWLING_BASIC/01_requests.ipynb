{
 "cells": [
  {
   "cell_type": "code",
   "execution_count": 2,
   "metadata": {},
   "outputs": [],
   "source": [
    "#pip install requests"
   ]
  },
  {
   "cell_type": "code",
   "execution_count": 1,
   "metadata": {},
   "outputs": [],
   "source": [
    "import requests"
   ]
  },
  {
   "cell_type": "code",
   "execution_count": 4,
   "metadata": {},
   "outputs": [
    {
     "name": "stdout",
     "output_type": "stream",
     "text": [
      "상태 코드: 200\n",
      "헤더 정보: {'Date': 'Sat, 09 Mar 2024 09:04:44 GMT', 'Expires': '-1', 'Cache-Control': 'private, max-age=0', 'Content-Type': 'text/html; charset=EUC-KR', 'Content-Security-Policy-Report-Only': \"object-src 'none';base-uri 'self';script-src 'nonce-TSA7SGGTX-MorvNQpZMu3w' 'strict-dynamic' 'report-sample' 'unsafe-eval' 'unsafe-inline' https: http:;report-uri https://csp.withgoogle.com/csp/gws/other-hp\", 'P3P': 'CP=\"This is not a P3P policy! See g.co/p3phelp for more info.\"', 'Content-Encoding': 'gzip', 'Server': 'gws', 'X-XSS-Protection': '0', 'X-Frame-Options': 'SAMEORIGIN', 'Set-Cookie': '1P_JAR=2024-03-09-09; expires=Mon, 08-Apr-2024 09:04:44 GMT; path=/; domain=.google.co.kr; Secure, AEC=Ae3NU9NYvZeONB187T6OdKpBKIOK5VCi3r4gkJRI3J-h6uHwCmfI6H9Rpsk; expires=Thu, 05-Sep-2024 09:04:44 GMT; path=/; domain=.google.co.kr; Secure; HttpOnly; SameSite=lax, NID=512=IBnpJmYjgYzDo0G1c-UdQWUhmPGcPNAT245S-PXNO1df5eJajjKs-TepAExk1Os9j7aDlFQhbjzNWtYmMLbv27FdDFO-8dGRNA3DUeVcx_ddfqy0xJrPyk6cPM4BwklJMYAxs79HMRPAwBxrxK2NS3PaSuIFZwLYsaGw_yXC_-I; expires=Sun, 08-Sep-2024 09:04:44 GMT; path=/; domain=.google.co.kr; HttpOnly', 'Alt-Svc': 'h3=\":443\"; ma=2592000,h3-29=\":443\"; ma=2592000', 'Transfer-Encoding': 'chunked'}\n",
      "HTML 내용: {'Date': 'Sat, 09 Mar 2024 09:04:44 GMT', 'Expires': '-1', 'Cache-Control': 'private, max-age=0', 'Content-Type': 'text/html; charset=EUC-KR', 'Content-Security-Policy-Report-Only': \"object-src 'none';base-uri 'self';script-src 'nonce-TSA7SGGTX-MorvNQpZMu3w' 'strict-dynamic' 'report-sample' 'unsafe-eval' 'unsafe-inline' https: http:;report-uri https://csp.withgoogle.com/csp/gws/other-hp\", 'P3P': 'CP=\"This is not a P3P policy! See g.co/p3phelp for more info.\"', 'Content-Encoding': 'gzip', 'Server': 'gws', 'X-XSS-Protection': '0', 'X-Frame-Options': 'SAMEORIGIN', 'Set-Cookie': '1P_JAR=2024-03-09-09; expires=Mon, 08-Apr-2024 09:04:44 GMT; path=/; domain=.google.co.kr; Secure, AEC=Ae3NU9NYvZeONB187T6OdKpBKIOK5VCi3r4gkJRI3J-h6uHwCmfI6H9Rpsk; expires=Thu, 05-Sep-2024 09:04:44 GMT; path=/; domain=.google.co.kr; Secure; HttpOnly; SameSite=lax, NID=512=IBnpJmYjgYzDo0G1c-UdQWUhmPGcPNAT245S-PXNO1df5eJajjKs-TepAExk1Os9j7aDlFQhbjzNWtYmMLbv27FdDFO-8dGRNA3DUeVcx_ddfqy0xJrPyk6cPM4BwklJMYAxs79HMRPAwBxrxK2NS3PaSuIFZwLYsaGw_yXC_-I; expires=Sun, 08-Sep-2024 09:04:44 GMT; path=/; domain=.google.co.kr; HttpOnly', 'Alt-Svc': 'h3=\":443\"; ma=2592000,h3-29=\":443\"; ma=2592000', 'Transfer-Encoding': 'chunked'}\n"
     ]
    }
   ],
   "source": [
    "url = 'https://www.google.co.kr/'\n",
    "response =  requests.get(url)\n",
    "\n",
    "print(f\"상태 코드: {response.status_code}\")\n",
    "print(f\"헤더 정보: {response.headers}\")\n",
    "print(f\"HTML 내용: {response.headers}\")\n",
    "\n"
   ]
  },
  {
   "cell_type": "code",
   "execution_count": null,
   "metadata": {},
   "outputs": [],
   "source": []
  }
 ],
 "metadata": {
  "kernelspec": {
   "display_name": "base",
   "language": "python",
   "name": "python3"
  },
  "language_info": {
   "codemirror_mode": {
    "name": "ipython",
    "version": 3
   },
   "file_extension": ".py",
   "mimetype": "text/x-python",
   "name": "python",
   "nbconvert_exporter": "python",
   "pygments_lexer": "ipython3",
   "version": "3.10.9"
  },
  "orig_nbformat": 4,
  "vscode": {
   "interpreter": {
    "hash": "44ed94aa5a25059f1d022778ba3e056d24b2929ee803beee62f86c836ff9312f"
   }
  }
 },
 "nbformat": 4,
 "nbformat_minor": 2
}
