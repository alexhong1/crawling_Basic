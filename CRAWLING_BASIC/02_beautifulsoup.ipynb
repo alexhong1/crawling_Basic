{
 "cells": [
  {
   "attachments": {},
   "cell_type": "markdown",
   "metadata": {},
   "source": [
    "# Web Crawling Process\n",
    "### 1. request : 웹 페이지의 HTML을 requests로 가져온다.\n",
    "### 2. Beautifulsoup : 우리가 처리하기 쉽도록 가져온 HTML 문서를 파싱한다.\n",
    "### 3. 필요한 정보를 추출하는 매서드를 사용해서 원하는 요소를 선택한다.\n"
   ]
  },
  {
   "cell_type": "code",
   "execution_count": null,
   "metadata": {},
   "outputs": [],
   "source": [
    "# pip install beautifulsoup4"
   ]
  },
  {
   "cell_type": "code",
   "execution_count": 3,
   "metadata": {},
   "outputs": [],
   "source": [
    "from bs4 import BeautifulSoup"
   ]
  },
  {
   "attachments": {},
   "cell_type": "markdown",
   "metadata": {},
   "source": [
    "<html>\n",
    "<head>\n",
    "<title>BeautifulSoup Example</title>\n",
    "</head>\n",
    "<body>\n",
    "<h1>Web Crawling Process</h1>\n",
    "<h2>Web Crawling Process</h2>\n",
    "<h3>Web Crawling Process</h3>\n",
    "pip install beautifulsoup4\n",
    "<p>1. requests : 웹 페이지의 HTML을 가져오는 역할</p>\n",
    "<p>2. BeautifulSoup : HTML 문서 파싱을 도와준다.</p>\n",
    "<p>3. 원하는 요소를 선택한다.</p>\n",
    "</body>\n",
    "<html/>"
   ]
  },
  {
   "cell_type": "code",
   "execution_count": 1,
   "metadata": {},
   "outputs": [],
   "source": [
    "html_doc ='''<html>\n",
    "<head>\n",
    "<title>BeautifulSoup Example</title>\n",
    "</head>\n",
    "<body>\n",
    "<h1>Web Crawling Process</h1>\n",
    "<h2>Web Crawling Process</h2>\n",
    "<h3>Web Crawling Process</h3>\n",
    "pip install beautifulsoup4\n",
    "<p>1. requests : 웹 페이지의 HTML을 가져오는 역할</p>\n",
    "<p>2. BeautifulSoup : HTML 문서 파싱을 도와준다.</p>\n",
    "<p>3. 원하는 요소를 선택한다.</p>\n",
    "</body>\n",
    "<html/>'''"
   ]
  },
  {
   "cell_type": "code",
   "execution_count": 4,
   "metadata": {},
   "outputs": [],
   "source": [
    "soup = BeautifulSoup(html_doc, 'html.parser')"
   ]
  },
  {
   "cell_type": "code",
   "execution_count": 5,
   "metadata": {},
   "outputs": [],
   "source": [
    "title = soup.title\n",
    "heading1 = soup.h1\n",
    "paragraph = soup.p"
   ]
  },
  {
   "cell_type": "code",
   "execution_count": 6,
   "metadata": {},
   "outputs": [
    {
     "data": {
      "text/plain": [
       "'BeautifulSoup Example'"
      ]
     },
     "execution_count": 6,
     "metadata": {},
     "output_type": "execute_result"
    }
   ],
   "source": [
    "title.text"
   ]
  },
  {
   "cell_type": "code",
   "execution_count": 7,
   "metadata": {},
   "outputs": [
    {
     "data": {
      "text/plain": [
       "<title>BeautifulSoup Example</title>"
      ]
     },
     "execution_count": 7,
     "metadata": {},
     "output_type": "execute_result"
    }
   ],
   "source": [
    "title"
   ]
  },
  {
   "cell_type": "code",
   "execution_count": 8,
   "metadata": {},
   "outputs": [
    {
     "data": {
      "text/plain": [
       "'1. requests : 웹 페이지의 HTML을 가져오는 역할'"
      ]
     },
     "execution_count": 8,
     "metadata": {},
     "output_type": "execute_result"
    }
   ],
   "source": [
    "paragraph.text"
   ]
  },
  {
   "cell_type": "code",
   "execution_count": 11,
   "metadata": {},
   "outputs": [
    {
     "ename": "AttributeError",
     "evalue": "ResultSet object has no attribute 'text'. You're probably treating a list of elements like a single element. Did you call find_all() when you meant to call find()?",
     "output_type": "error",
     "traceback": [
      "\u001b[0;31m---------------------------------------------------------------------------\u001b[0m",
      "\u001b[0;31mAttributeError\u001b[0m                            Traceback (most recent call last)",
      "\u001b[0;32m/var/folders/vs/zjbdd_b92tz89hg6s1q4p0780000gn/T/ipykernel_27264/1260008325.py\u001b[0m in \u001b[0;36m<module>\u001b[0;34m\u001b[0m\n\u001b[1;32m      1\u001b[0m \u001b[0mparagraph_all\u001b[0m \u001b[0;34m=\u001b[0m \u001b[0msoup\u001b[0m\u001b[0;34m.\u001b[0m\u001b[0mfind_all\u001b[0m\u001b[0;34m(\u001b[0m\u001b[0;34m'p'\u001b[0m\u001b[0;34m)\u001b[0m\u001b[0;34m\u001b[0m\u001b[0;34m\u001b[0m\u001b[0m\n\u001b[1;32m      2\u001b[0m \u001b[0mparagraph_all\u001b[0m\u001b[0;34m\u001b[0m\u001b[0;34m\u001b[0m\u001b[0m\n\u001b[0;32m----> 3\u001b[0;31m \u001b[0mparagraph_all\u001b[0m\u001b[0;34m.\u001b[0m\u001b[0mtext\u001b[0m\u001b[0;34m\u001b[0m\u001b[0;34m\u001b[0m\u001b[0m\n\u001b[0m",
      "\u001b[0;32m~/anaconda3/envs/deeplearning/lib/python3.7/site-packages/bs4/element.py\u001b[0m in \u001b[0;36m__getattr__\u001b[0;34m(self, key)\u001b[0m\n\u001b[1;32m   2432\u001b[0m         \u001b[0;34m\"\"\"Raise a helpful exception to explain a common code fix.\"\"\"\u001b[0m\u001b[0;34m\u001b[0m\u001b[0;34m\u001b[0m\u001b[0m\n\u001b[1;32m   2433\u001b[0m         raise AttributeError(\n\u001b[0;32m-> 2434\u001b[0;31m             \u001b[0;34m\"ResultSet object has no attribute '%s'. You're probably treating a list of elements like a single element. Did you call find_all() when you meant to call find()?\"\u001b[0m \u001b[0;34m%\u001b[0m \u001b[0mkey\u001b[0m\u001b[0;34m\u001b[0m\u001b[0;34m\u001b[0m\u001b[0m\n\u001b[0m\u001b[1;32m   2435\u001b[0m         )\n",
      "\u001b[0;31mAttributeError\u001b[0m: ResultSet object has no attribute 'text'. You're probably treating a list of elements like a single element. Did you call find_all() when you meant to call find()?"
     ]
    }
   ],
   "source": [
    "paragraph_all = soup.find_all('p')\n",
    "paragraph_all"
   ]
  },
  {
   "cell_type": "code",
   "execution_count": 12,
   "metadata": {},
   "outputs": [
    {
     "name": "stdout",
     "output_type": "stream",
     "text": [
      "1. requests : 웹 페이지의 HTML을 가져오는 역할\n",
      "2. BeautifulSoup : HTML 문서 파싱을 도와준다.\n",
      "3. 원하는 요소를 선택한다.\n"
     ]
    }
   ],
   "source": [
    "for p in paragraph_all:\n",
    "    print(p.text)"
   ]
  },
  {
   "cell_type": "code",
   "execution_count": null,
   "metadata": {},
   "outputs": [],
   "source": []
  }
 ],
 "metadata": {
  "kernelspec": {
   "display_name": "deeplearning",
   "language": "python",
   "name": "python3"
  },
  "language_info": {
   "codemirror_mode": {
    "name": "ipython",
    "version": 3
   },
   "file_extension": ".py",
   "mimetype": "text/x-python",
   "name": "python",
   "nbconvert_exporter": "python",
   "pygments_lexer": "ipython3",
   "version": "3.7.12"
  },
  "orig_nbformat": 4,
  "vscode": {
   "interpreter": {
    "hash": "300ddff0110c20d0545a3bd5b6d164d51ccacf5d34b9f5a3998b85399cfb4554"
   }
  }
 },
 "nbformat": 4,
 "nbformat_minor": 2
}
